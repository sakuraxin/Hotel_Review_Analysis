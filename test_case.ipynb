{
 "cells": [
  {
   "cell_type": "code",
   "execution_count": 1,
   "metadata": {},
   "outputs": [],
   "source": [
    "import pandas as pd\n",
    "import numpy as py\n",
    "import re"
   ]
  },
  {
   "cell_type": "code",
   "execution_count": 2,
   "metadata": {},
   "outputs": [],
   "source": [
    "neg_word_sen_score=pd.read_csv(\"neg_word_sen_score.csv\",converters={\"score\": float})\n",
    "pos_word_sen_score=pd.read_csv(\"pos_word_sen_score.csv\",converters={\"score\": float})"
   ]
  },
  {
   "cell_type": "code",
   "execution_count": 3,
   "metadata": {},
   "outputs": [],
   "source": [
    "from nltk.classify.scikitlearn import SklearnClassifier\n",
    "from nltk.classify import NaiveBayesClassifier\n",
    "from nltk.metrics import precision, recall, f_measure\n",
    "from nltk.corpus import stopwords\n",
    "from nltk.tokenize import sent_tokenize, word_tokenize\n",
    "from nltk.tokenize import ToktokTokenizer"
   ]
  },
  {
   "cell_type": "code",
   "execution_count": 4,
   "metadata": {},
   "outputs": [],
   "source": [
    "toktok = ToktokTokenizer()\n",
    "stop_words_nltk = set(stopwords.words('english'))\n",
    "def word_process(text):\n",
    "    clean_words = re.sub(\"[^a-zA-Z]\",\" \", text)\n",
    "    clean_words = clean_words.lower()\n",
    "    words = word_tokenize(clean_words)\n",
    "    words = [toktok.tokenize(k) for k in sent_tokenize(clean_words)]\n",
    "    result = []\n",
    "    if not words:\n",
    "        pass\n",
    "    else:\n",
    "        for w in words[0]:\n",
    "            if w not in stop_words_nltk:\n",
    "                result.append(w)\n",
    "    return result"
   ]
  },
  {
   "cell_type": "code",
   "execution_count": 5,
   "metadata": {},
   "outputs": [],
   "source": [
    "set_of_pos_word = set(pos_word_sen_score.word) - set(['no', 'negative', 'positive'])\n",
    "set_of_neg_word = set(neg_word_sen_score.word) - set(['no', 'negative', 'positive'])\n",
    "def pos_sentiment_score(review):\n",
    "    pos = 0\n",
    "    clean = word_process(review)\n",
    "    for w in clean:\n",
    "        if w in set_of_pos_word:\n",
    "            pos += pos_word_sen_score[pos_word_sen_score['word'] == w].score.iloc[0]\n",
    "    return pos\n",
    "def neg_sentiment_score(review):\n",
    "    neg = 0\n",
    "    clean = word_process(review)\n",
    "    for w in clean:\n",
    "        if w in set_of_neg_word:\n",
    "            neg += neg_word_sen_score[neg_word_sen_score['word'] == w].score.iloc[0]\n",
    "    return neg"
   ]
  },
  {
   "cell_type": "markdown",
   "metadata": {},
   "source": [
    "- Application 1--Predict **strength of sentiment** abouht a given review text is. Two functions are provided: pos_sentiment_score(), neg_sentiment_score(). Input: string of review text; Output: a positive sentiment score by calling pos_sentiment_score() and a negative sentiment score by calling neg_sentiment_score(). "
   ]
  },
  {
   "cell_type": "markdown",
   "metadata": {},
   "source": [
    " Example 1: My room was dirty and I was afraid to walk barefoot on the floor which looked as if it was not cleaned in weeks White furniture which looked nice in pictures was dirty too and the door looked like it was attacked by an angry dog My shower drain was clogged and the staff did not respond to my request to clean it On a day with heavy rainfall a pretty common occurrence in Amsterdam the roof in my room was leaking luckily not on the bed you could also see signs of earlier water damage I also saw insects running on the floor Overall the second floor of the property looked dirty and badly kept On top of all of this a repairman who came to fix something in a room next door at midnight was very noisy as were many of the guests I understand the challenges of running a hotel in an old building but this negligence is inconsistent with prices demanded by the hotel On the last night after I complained about water damage the night shift manager offered to move me to a different room but that offer came pretty late around midnight when I was already in bed and ready to sleep "
   ]
  },
  {
   "cell_type": "markdown",
   "metadata": {},
   "source": [
    "Type of example: **string** (copied from the above example)"
   ]
  },
  {
   "cell_type": "code",
   "execution_count": 6,
   "metadata": {},
   "outputs": [],
   "source": [
    "test_text1 = 'My room was dirty and I was afraid to walk barefoot on the floor which looked as if it was not cleaned in weeks White furniture which looked nice in pictures was dirty too and the door looked like it was attacked by an angry dog My shower drain was clogged and the staff did not respond to my request to clean it On a day with heavy rainfall a pretty common occurrence in Amsterdam the roof in my room was leaking luckily not on the bed you could also see signs of earlier water damage I also saw insects running on the floor Overall the second floor of the property looked dirty and badly kept On top of all of this a repairman who came to fix something in a room next door at midnight was very noisy as were many of the guests I understand the challenges of running a hotel in an old building but this negligence is inconsistent with prices demanded by the hotel On the last night after I complained about water damage the night shift manager offered to move me to a different room but that offer came pretty late around midnight when I was already in bed and ready to sleep'"
   ]
  },
  {
   "cell_type": "code",
   "execution_count": 7,
   "metadata": {},
   "outputs": [
    {
     "name": "stdout",
     "output_type": "stream",
     "text": [
      "('The positive sentiment score of the given text is 31.50', 'The negative sentiment score of the given text is 466.00')\n"
     ]
    }
   ],
   "source": [
    "print(\"The positive sentiment score of the given text is %.2f\" %pos_sentiment_score(test_text1), \n",
    "      \"The negative sentiment score of the given text is %.2f\" %neg_sentiment_score(test_text1))"
   ]
  },
  {
   "cell_type": "markdown",
   "metadata": {},
   "source": [
    "From the above value, we could tell that the given test review text is classified to a **negative review** since the neg_sentiment_score is much larger than pos_sentiment_score. The result matches the catergorization from dataset (copied the given review text under column \"Negative_Review\"). From the two scores, we could all tell how negative the given review is and how positive the given review is. "
   ]
  },
  {
   "cell_type": "markdown",
   "metadata": {},
   "source": [
    " Example 2: Great location in nice surroundings the bar and restaurant are nice and have a lovely outdoor area The building also has quite some character "
   ]
  },
  {
   "cell_type": "code",
   "execution_count": 8,
   "metadata": {},
   "outputs": [],
   "source": [
    "test_text2 = 'Great location in nice surroundings the bar and restaurant are nice and have a lovely outdoor area The building also has quite some character'"
   ]
  },
  {
   "cell_type": "code",
   "execution_count": 9,
   "metadata": {},
   "outputs": [
    {
     "name": "stdout",
     "output_type": "stream",
     "text": [
      "('The positive sentiment score of the given text is 63.60', 'The negative sentiment score of the given text is 0.00')\n"
     ]
    }
   ],
   "source": [
    "print(\"The positive sentiment score of the given text is %.2f\" %pos_sentiment_score(test_text2), \n",
    "      \"The negative sentiment score of the given text is %.2f\" %neg_sentiment_score(test_text2))"
   ]
  },
  {
   "cell_type": "markdown",
   "metadata": {},
   "source": [
    "From the above value, we could tell that the given test review text is classified to a **100% positive review** since the neg_sentiment_score is 0. The result matches the catergorization from dataset (copied the given review text under column \"Positive_Review\"). From the two scores, we could all tell how negative the given review is and how positive the given review is. "
   ]
  },
  {
   "cell_type": "markdown",
   "metadata": {},
   "source": [
    "Also, from the two returned values of a given review text from pos_sentiment_score() and neg_sentiment_score(), if one value if significantly large than the other, or one of them is 0, we could categorize the given text to positive or negtaive reviews."
   ]
  },
  {
   "cell_type": "markdown",
   "metadata": {},
   "source": [
    "- Application 2: Let's predict the **Reviewer_Score** based on 1 positive review and 1 negative review from the same hotel. Input: two different strings of review texts; Output: a predicted reviewer score. "
   ]
  },
  {
   "cell_type": "markdown",
   "metadata": {},
   "source": [
    "From the above two text, we could tell that example 1 is categorized as negative review and example 2 is categorzied as positive reivew. Assume these two reviews are given to the same hotel. Then we could predict the **Review Score** based on the sentiment scores of the two text. "
   ]
  },
  {
   "cell_type": "code",
   "execution_count": 10,
   "metadata": {},
   "outputs": [
    {
     "data": {
      "text/plain": [
       "[0.011836679330565333, -0.016977716121541978, 8.24393084976765]"
      ]
     },
     "execution_count": 10,
     "metadata": {},
     "output_type": "execute_result"
    }
   ],
   "source": [
    "model_para = pd.read_pickle('reviewer_score_model_para') ###read model parameters\n",
    "model_para = model_para['para'].values.tolist()\n",
    "model_para"
   ]
  },
  {
   "cell_type": "code",
   "execution_count": 11,
   "metadata": {},
   "outputs": [],
   "source": [
    "def Reviewer_score_cal(a, b):\n",
    "    if a == b:\n",
    "        return('Error: Given two texts are the same. Please give two different texts')\n",
    "    pos_score_a = pos_sentiment_score(a)\n",
    "    neg_score_a = neg_sentiment_score(a)\n",
    "    pos_score_b = pos_sentiment_score(b)\n",
    "    neg_score_b = neg_sentiment_score(b)\n",
    "    if pos_score_a > neg_score_a and neg_score_b > pos_score_b:\n",
    "        pos = pos_score_a\n",
    "        neg = neg_score_b\n",
    "        result = model_para[0] * pos + model_para[1] * neg + model_para[2]\n",
    "        return result\n",
    "    elif neg_score_a > pos_score_a and pos_score_b > neg_score_b:\n",
    "        pos = pos_score_b\n",
    "        neg = neg_score_a\n",
    "        result = model_para[0] * pos + model_para[1] * neg + model_para[2]\n",
    "        return result\n",
    "    elif pos_score_a > neg_score_a and pos_score_a > neg_score_a:\n",
    "        return('Error: the given two reviews are both positive reviews')\n",
    "    elif pos_score_a < neg_score_a and pos_score_a < neg_score_a:\n",
    "        return('Error: the given two reviews are both negative reviews')"
   ]
  },
  {
   "cell_type": "code",
   "execution_count": 12,
   "metadata": {},
   "outputs": [
    {
     "data": {
      "text/plain": [
       "1.0851279425530453"
      ]
     },
     "execution_count": 12,
     "metadata": {},
     "output_type": "execute_result"
    }
   ],
   "source": [
    "Reviewer_score_cal(test_text1, test_text2)"
   ]
  },
  {
   "cell_type": "code",
   "execution_count": 13,
   "metadata": {},
   "outputs": [
    {
     "name": "stdout",
     "output_type": "stream",
     "text": [
      "The predicted Reviewer Score of the two given texts is 1.09\n"
     ]
    }
   ],
   "source": [
    "print('The predicted Reviewer Score of the two given texts is %.2f' %Reviewer_score_cal(test_text1, test_text2))"
   ]
  },
  {
   "cell_type": "markdown",
   "metadata": {},
   "source": [
    "- Application 3: Return a **ranking list of hotels** from interested aspect based on aspect analysis. Optional aspects from positive reviews are **staff**, **location**, **room**, **breakfast**, and **bed**. Optional aspects from negative reviews are **room**, **breakfast**, **staff**, **bed** and **bathroom**. "
   ]
  },
  {
   "cell_type": "markdown",
   "metadata": {},
   "source": [
    "Based on analysis from \"data_process.ipynb\", top 5 aspects in positive reviews are: \"staff\", \"location\", \"room\", \"breakfast\", \"bed\". Top 5 aspects in negative reviews are: \"room\", \"breakfast\", \"staff\", \"bed\", \"bathroom\". Each list is saved to .csv file fro user to read directly. \n",
    "'loc_pos_list.csv' is a ranked list of hotels has \"location\" in positive reviews.\n",
    "'staff_pos_list.csv' is a ranked list of hotels has \"staff\" in positive reviews.\n",
    "'rm_pos_list.csv' is a ranked list of hotels has \"room\" in positive reviews.\n",
    "'bk_pos_list.csv' is a ranked list of hotels has \"location\" in positive reviews.\n",
    "'bed_pos_list.csv' is a ranked list of hotels has \"bed\" in positive reviews.\n",
    "'rm_neg_list.csv' is a ranked list of hotels has \"room\" in negative reviews.\n",
    "'bk_neg_list.csv' is a ranked list of hotels has \"breakfast\" in negative reviews.\n",
    "'staff_neg_list.csv' is a ranked list of hotels has \"staff\" in negative reviews.\n",
    "'bed_neg_list.csv' is a ranked list of hotels has \"bed\" in negative reviews.\n",
    "'bath_neg_list.csv' is a ranked list of hotels has \"bathroom\" in negative reviews."
   ]
  },
  {
   "cell_type": "markdown",
   "metadata": {},
   "source": [
    "Assume a user is interested in positive reviews containing **location** of hotels, then return the top 20 hotels. "
   ]
  },
  {
   "cell_type": "code",
   "execution_count": 14,
   "metadata": {},
   "outputs": [
    {
     "data": {
      "text/plain": [
       "0                                    11 Cadogan Gardens\n",
       "1                                              1K Hotel\n",
       "2                    25hours Hotel beim MuseumsQuartier\n",
       "3                                                    41\n",
       "4                    45 Park Lane Dorchester Collection\n",
       "5                                            88 Studios\n",
       "6                                     9Hotel Republique\n",
       "7                                     A La Villa Madame\n",
       "8          ABaC Restaurant Hotel Barcelona GL Monumento\n",
       "9     AC Hotel Barcelona Forum a Marriott Lifestyle ...\n",
       "10    AC Hotel Diagonal L Illa a Marriott Lifestyle ...\n",
       "11             AC Hotel Irla a Marriott Lifestyle Hotel\n",
       "12           AC Hotel Milano a Marriott Lifestyle Hotel\n",
       "13             AC Hotel Paris Porte Maillot by Marriott\n",
       "14            AC Hotel Sants a Marriott Lifestyle Hotel\n",
       "15    AC Hotel Victoria Suites a Marriott Lifestyle ...\n",
       "16                                ADI Doria Grand Hotel\n",
       "17                            ADI Hotel Poliziano Fiera\n",
       "18                        ARCOTEL Kaiserwasser Superior\n",
       "19                                    ARCOTEL Wimberger\n",
       "Name: Hotel_name, dtype: object"
      ]
     },
     "execution_count": 14,
     "metadata": {},
     "output_type": "execute_result"
    }
   ],
   "source": [
    "import pandas as pd\n",
    "loc_pos = pd.read_csv('loc_pos_list.csv')\n",
    "loc_pos['Hotel_name'][:20]"
   ]
  },
  {
   "cell_type": "markdown",
   "metadata": {},
   "source": [
    "Visualize the result by google map. "
   ]
  },
  {
   "cell_type": "code",
   "execution_count": 15,
   "metadata": {
    "scrolled": true
   },
   "outputs": [
    {
     "data": {
      "text/html": [
       "<div style=\"width:100%;\"><div style=\"position:relative;width:100%;height:0;padding-bottom:60%;\"><iframe src=\"data:text/html;base64,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\" style=\"position:absolute;width:100%;height:100%;left:0;top:0;\"></iframe></div></div>"
      ],
      "text/plain": [
       "<folium.folium.Map at 0x1a200a7d10>"
      ]
     },
     "execution_count": 15,
     "metadata": {},
     "output_type": "execute_result"
    }
   ],
   "source": [
    "import folium\n",
    "df = pd.read_pickle('Filling_nans')\n",
    "loc_pos_hotel = loc_pos['Hotel_name'][:20]\n",
    "loc_pos_data = df.loc[df['Hotel_Name'].isin(loc_pos_hotel)][[\"Hotel_Name\",\"Hotel_Address\",\n",
    "                                                             'lat','lng']].drop_duplicates()\n",
    "loc_pos_map = folium.Map(location = [52, 17], zoom_start = 1)\n",
    "loc_pos_data.apply(lambda row:folium.Marker(location=[row[\"lat\"], row[\"lng\"]])\n",
    "                                             .add_to(loc_pos_map), axis=1)\n",
    "\n",
    "loc_pos_map"
   ]
  },
  {
   "cell_type": "code",
   "execution_count": 16,
   "metadata": {
    "scrolled": true
   },
   "outputs": [
    {
     "data": {
      "text/html": [
       "<div>\n",
       "<style scoped>\n",
       "    .dataframe tbody tr th:only-of-type {\n",
       "        vertical-align: middle;\n",
       "    }\n",
       "\n",
       "    .dataframe tbody tr th {\n",
       "        vertical-align: top;\n",
       "    }\n",
       "\n",
       "    .dataframe thead th {\n",
       "        text-align: right;\n",
       "    }\n",
       "</style>\n",
       "<table border=\"1\" class=\"dataframe\">\n",
       "  <thead>\n",
       "    <tr style=\"text-align: right;\">\n",
       "      <th></th>\n",
       "      <th>Hotel_Name</th>\n",
       "      <th>Hotel_Address</th>\n",
       "      <th>lat</th>\n",
       "      <th>lng</th>\n",
       "    </tr>\n",
       "  </thead>\n",
       "  <tbody>\n",
       "    <tr>\n",
       "      <th>33703</th>\n",
       "      <td>11 Cadogan Gardens</td>\n",
       "      <td>11 Cadogan Gardens Sloane Square Kensington an...</td>\n",
       "      <td>51.493616</td>\n",
       "      <td>-0.159235</td>\n",
       "    </tr>\n",
       "    <tr>\n",
       "      <th>43148</th>\n",
       "      <td>1K Hotel</td>\n",
       "      <td>13 Boulevard Du Temple 3rd arr 75003 Paris France</td>\n",
       "      <td>48.863932</td>\n",
       "      <td>2.365874</td>\n",
       "    </tr>\n",
       "    <tr>\n",
       "      <th>185602</th>\n",
       "      <td>41</td>\n",
       "      <td>41 Buckingham Palace Road Westminster Borough ...</td>\n",
       "      <td>51.498147</td>\n",
       "      <td>-0.143649</td>\n",
       "    </tr>\n",
       "    <tr>\n",
       "      <th>191715</th>\n",
       "      <td>A La Villa Madame</td>\n",
       "      <td>44 Rue Madame 6th arr 75006 Paris France</td>\n",
       "      <td>48.848861</td>\n",
       "      <td>2.331526</td>\n",
       "    </tr>\n",
       "    <tr>\n",
       "      <th>191786</th>\n",
       "      <td>45 Park Lane Dorchester Collection</td>\n",
       "      <td>45 Park Lane Westminster Borough London W1K 1P...</td>\n",
       "      <td>51.506371</td>\n",
       "      <td>-0.151536</td>\n",
       "    </tr>\n",
       "    <tr>\n",
       "      <th>221503</th>\n",
       "      <td>AC Hotel Paris Porte Maillot by Marriott</td>\n",
       "      <td>6 rue Gustave Charpentier 17th arr 75017 Paris...</td>\n",
       "      <td>48.882005</td>\n",
       "      <td>2.281854</td>\n",
       "    </tr>\n",
       "    <tr>\n",
       "      <th>234572</th>\n",
       "      <td>9Hotel Republique</td>\n",
       "      <td>7 9 Rue Pierre Chausson 10th arr 75010 Paris F...</td>\n",
       "      <td>48.870842</td>\n",
       "      <td>2.360586</td>\n",
       "    </tr>\n",
       "    <tr>\n",
       "      <th>256880</th>\n",
       "      <td>88 Studios</td>\n",
       "      <td>88 Holland Road Kensington and Chelsea London ...</td>\n",
       "      <td>51.499279</td>\n",
       "      <td>-0.209073</td>\n",
       "    </tr>\n",
       "    <tr>\n",
       "      <th>277378</th>\n",
       "      <td>AC Hotel Diagonal L Illa a Marriott Lifestyle ...</td>\n",
       "      <td>Avenida Diagonal 555 Les Corts 08029 Barcelona...</td>\n",
       "      <td>41.389961</td>\n",
       "      <td>2.135684</td>\n",
       "    </tr>\n",
       "    <tr>\n",
       "      <th>280541</th>\n",
       "      <td>ABaC Restaurant Hotel Barcelona GL Monumento</td>\n",
       "      <td>Avenida Tibidabo 1 Sarri St Gervasi 08022 Barc...</td>\n",
       "      <td>41.410694</td>\n",
       "      <td>2.136294</td>\n",
       "    </tr>\n",
       "    <tr>\n",
       "      <th>284867</th>\n",
       "      <td>AC Hotel Victoria Suites a Marriott Lifestyle ...</td>\n",
       "      <td>Beltran i R zpide 7 9 Les Corts 08034 Barcelon...</td>\n",
       "      <td>41.389348</td>\n",
       "      <td>2.120976</td>\n",
       "    </tr>\n",
       "    <tr>\n",
       "      <th>293544</th>\n",
       "      <td>AC Hotel Irla a Marriott Lifestyle Hotel</td>\n",
       "      <td>Calvet 40 42 Sarri St Gervasi 08021 Barcelona ...</td>\n",
       "      <td>41.394818</td>\n",
       "      <td>2.143470</td>\n",
       "    </tr>\n",
       "    <tr>\n",
       "      <th>370315</th>\n",
       "      <td>25hours Hotel beim MuseumsQuartier</td>\n",
       "      <td>Lerchenfelder Stra e 1 3 07 Neubau 1070 Vienna...</td>\n",
       "      <td>48.206474</td>\n",
       "      <td>16.354630</td>\n",
       "    </tr>\n",
       "    <tr>\n",
       "      <th>384792</th>\n",
       "      <td>ARCOTEL Wimberger</td>\n",
       "      <td>Neubaug rtel 34 36 07 Neubau 1070 Vienna Austria</td>\n",
       "      <td>48.200600</td>\n",
       "      <td>16.338633</td>\n",
       "    </tr>\n",
       "    <tr>\n",
       "      <th>398392</th>\n",
       "      <td>AC Hotel Barcelona Forum a Marriott Lifestyle ...</td>\n",
       "      <td>Paseo Taulat 278 Sant Mart 08019 Barcelona Spain</td>\n",
       "      <td>41.410131</td>\n",
       "      <td>2.218805</td>\n",
       "    </tr>\n",
       "    <tr>\n",
       "      <th>401618</th>\n",
       "      <td>AC Hotel Sants a Marriott Lifestyle Hotel</td>\n",
       "      <td>Passeig de Sant Antoni 36 40 Sants Montju c 08...</td>\n",
       "      <td>41.377558</td>\n",
       "      <td>2.138469</td>\n",
       "    </tr>\n",
       "    <tr>\n",
       "      <th>485832</th>\n",
       "      <td>ADI Hotel Poliziano Fiera</td>\n",
       "      <td>Via Poliziano 11 Sempione 20154 Milan Italy</td>\n",
       "      <td>45.483717</td>\n",
       "      <td>9.164937</td>\n",
       "    </tr>\n",
       "    <tr>\n",
       "      <th>492395</th>\n",
       "      <td>AC Hotel Milano a Marriott Lifestyle Hotel</td>\n",
       "      <td>Via Tazzoli 2 Garibaldi Station 20154 Milan Italy</td>\n",
       "      <td>45.485180</td>\n",
       "      <td>9.183119</td>\n",
       "    </tr>\n",
       "    <tr>\n",
       "      <th>493433</th>\n",
       "      <td>ADI Doria Grand Hotel</td>\n",
       "      <td>Viale Andrea Doria 22 Central Station 20124 Mi...</td>\n",
       "      <td>45.485372</td>\n",
       "      <td>9.211584</td>\n",
       "    </tr>\n",
       "    <tr>\n",
       "      <th>501194</th>\n",
       "      <td>ARCOTEL Kaiserwasser Superior</td>\n",
       "      <td>Wagramer Stra e 8 22 Donaustadt 1220 Vienna Au...</td>\n",
       "      <td>48.231915</td>\n",
       "      <td>16.417026</td>\n",
       "    </tr>\n",
       "  </tbody>\n",
       "</table>\n",
       "</div>"
      ],
      "text/plain": [
       "                                               Hotel_Name  \\\n",
       "33703                                  11 Cadogan Gardens   \n",
       "43148                                            1K Hotel   \n",
       "185602                                                 41   \n",
       "191715                                  A La Villa Madame   \n",
       "191786                 45 Park Lane Dorchester Collection   \n",
       "221503           AC Hotel Paris Porte Maillot by Marriott   \n",
       "234572                                  9Hotel Republique   \n",
       "256880                                         88 Studios   \n",
       "277378  AC Hotel Diagonal L Illa a Marriott Lifestyle ...   \n",
       "280541       ABaC Restaurant Hotel Barcelona GL Monumento   \n",
       "284867  AC Hotel Victoria Suites a Marriott Lifestyle ...   \n",
       "293544           AC Hotel Irla a Marriott Lifestyle Hotel   \n",
       "370315                 25hours Hotel beim MuseumsQuartier   \n",
       "384792                                  ARCOTEL Wimberger   \n",
       "398392  AC Hotel Barcelona Forum a Marriott Lifestyle ...   \n",
       "401618          AC Hotel Sants a Marriott Lifestyle Hotel   \n",
       "485832                          ADI Hotel Poliziano Fiera   \n",
       "492395         AC Hotel Milano a Marriott Lifestyle Hotel   \n",
       "493433                              ADI Doria Grand Hotel   \n",
       "501194                      ARCOTEL Kaiserwasser Superior   \n",
       "\n",
       "                                            Hotel_Address        lat  \\\n",
       "33703   11 Cadogan Gardens Sloane Square Kensington an...  51.493616   \n",
       "43148   13 Boulevard Du Temple 3rd arr 75003 Paris France  48.863932   \n",
       "185602  41 Buckingham Palace Road Westminster Borough ...  51.498147   \n",
       "191715           44 Rue Madame 6th arr 75006 Paris France  48.848861   \n",
       "191786  45 Park Lane Westminster Borough London W1K 1P...  51.506371   \n",
       "221503  6 rue Gustave Charpentier 17th arr 75017 Paris...  48.882005   \n",
       "234572  7 9 Rue Pierre Chausson 10th arr 75010 Paris F...  48.870842   \n",
       "256880  88 Holland Road Kensington and Chelsea London ...  51.499279   \n",
       "277378  Avenida Diagonal 555 Les Corts 08029 Barcelona...  41.389961   \n",
       "280541  Avenida Tibidabo 1 Sarri St Gervasi 08022 Barc...  41.410694   \n",
       "284867  Beltran i R zpide 7 9 Les Corts 08034 Barcelon...  41.389348   \n",
       "293544  Calvet 40 42 Sarri St Gervasi 08021 Barcelona ...  41.394818   \n",
       "370315  Lerchenfelder Stra e 1 3 07 Neubau 1070 Vienna...  48.206474   \n",
       "384792   Neubaug rtel 34 36 07 Neubau 1070 Vienna Austria  48.200600   \n",
       "398392   Paseo Taulat 278 Sant Mart 08019 Barcelona Spain  41.410131   \n",
       "401618  Passeig de Sant Antoni 36 40 Sants Montju c 08...  41.377558   \n",
       "485832        Via Poliziano 11 Sempione 20154 Milan Italy  45.483717   \n",
       "492395  Via Tazzoli 2 Garibaldi Station 20154 Milan Italy  45.485180   \n",
       "493433  Viale Andrea Doria 22 Central Station 20124 Mi...  45.485372   \n",
       "501194  Wagramer Stra e 8 22 Donaustadt 1220 Vienna Au...  48.231915   \n",
       "\n",
       "              lng  \n",
       "33703   -0.159235  \n",
       "43148    2.365874  \n",
       "185602  -0.143649  \n",
       "191715   2.331526  \n",
       "191786  -0.151536  \n",
       "221503   2.281854  \n",
       "234572   2.360586  \n",
       "256880  -0.209073  \n",
       "277378   2.135684  \n",
       "280541   2.136294  \n",
       "284867   2.120976  \n",
       "293544   2.143470  \n",
       "370315  16.354630  \n",
       "384792  16.338633  \n",
       "398392   2.218805  \n",
       "401618   2.138469  \n",
       "485832   9.164937  \n",
       "492395   9.183119  \n",
       "493433   9.211584  \n",
       "501194  16.417026  "
      ]
     },
     "execution_count": 16,
     "metadata": {},
     "output_type": "execute_result"
    }
   ],
   "source": [
    "loc_pos_data"
   ]
  }
 ],
 "metadata": {
  "kernelspec": {
   "display_name": "Python 2",
   "language": "python",
   "name": "python2"
  },
  "language_info": {
   "codemirror_mode": {
    "name": "ipython",
    "version": 2
   },
   "file_extension": ".py",
   "mimetype": "text/x-python",
   "name": "python",
   "nbconvert_exporter": "python",
   "pygments_lexer": "ipython2",
   "version": "2.7.15"
  }
 },
 "nbformat": 4,
 "nbformat_minor": 2
}
